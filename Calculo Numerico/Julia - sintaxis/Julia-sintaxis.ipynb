{
 "cells": [
  {
   "cell_type": "markdown",
   "id": "supposed-organ",
   "metadata": {},
   "source": [
    "# Programa de ejemplo de Julia con varios elementos sintácticos"
   ]
  },
  {
   "cell_type": "markdown",
   "id": "structural-jerusalem",
   "metadata": {},
   "source": [
    "## Comentarios"
   ]
  },
  {
   "cell_type": "code",
   "execution_count": 1,
   "id": "interim-majority",
   "metadata": {},
   "outputs": [],
   "source": [
    "# Autor: Santiago Pinto                Fecha: 2024-06-09\n",
    "# Estos son comentarios de una línea, comienzan con '#'\n",
    "# y se extienden hasta el final de la línea\n",
    "\n",
    "#= Con '#=' y '=#' se pueden crear comentarios multilínea\n",
    "   #= ¡Incluso se pueden anidar! =# :)\n",
    "=#"
   ]
  },
  {
   "cell_type": "markdown",
   "id": "fallen-parker",
   "metadata": {},
   "source": [
    "## Variables y sentencias"
   ]
  },
  {
   "cell_type": "code",
   "execution_count": 2,
   "id": "hispanic-reflection",
   "metadata": {},
   "outputs": [
    {
     "data": {
      "text/plain": [
       "true"
      ]
     },
     "execution_count": 2,
     "metadata": {},
     "output_type": "execute_result"
    }
   ],
   "source": [
    "# Aquí se crean unas cuantas variables\n",
    "contador = 0\n",
    "incremento = 1;\n",
    "λ₀! = true       # Nombres unicode con símbolos\n",
    "                 # (puede usarse LATEX, \\lambda<TAB>\\_0<TAB>)\n",
    "const constante  # Constantes, aunque no son totalmente confiables\n",
    "# Nótese que las sentencias pueden terminarse con ';' o no.\n",
    "# Julia acepta una sentencia tan pronto la considere\n",
    "# código válido, puede ser necesario utilizar paréntesis\n",
    "auxiliar = true"
   ]
  },
  {
   "cell_type": "code",
   "execution_count": null,
   "id": "assigned-testament",
   "metadata": {},
   "outputs": [],
   "source": [
    "# Mal\n",
    "correcto = auxiliar\n",
    "         = false"
   ]
  },
  {
   "cell_type": "code",
   "execution_count": null,
   "id": "casual-deposit",
   "metadata": {},
   "outputs": [],
   "source": [
    "# Bien\n",
    "correcto = (auxiliar = true)"
   ]
  },
  {
   "cell_type": "code",
   "execution_count": 3,
   "id": "hybrid-oregon",
   "metadata": {},
   "outputs": [
    {
     "data": {
      "text/plain": [
       "10"
      ]
     },
     "execution_count": 3,
     "metadata": {},
     "output_type": "execute_result"
    }
   ],
   "source": [
    "A = [1,2,3]      # Array de 1 dimensión de tamaño 3\n",
    "B = A            # Las asignaciones cambian el objeto al que\n",
    "                 # se refiere una variable, no copian el objeto\n",
    "B[1] = 10        # Los índices empiezan por 1, no por 0\n",
    "A[1]"
   ]
  },
  {
   "cell_type": "code",
   "execution_count": 4,
   "id": "thermal-occasion",
   "metadata": {},
   "outputs": [
    {
     "data": {
      "text/plain": [
       "3-element Vector{Int32}:\n",
       " 10\n",
       "  2\n",
       "  3"
      ]
     },
     "execution_count": 4,
     "metadata": {},
     "output_type": "execute_result"
    }
   ],
   "source": [
    "# Sin emabrgo, cuando asignas un valor primitivo,\n",
    "# se comporta como si copiaras el valor\n",
    "B = 1000       # Las variables no tienen tipo (por defecto), los datos sí\n",
    "# ... pero se puede anotar el tipo de una variable.\n",
    "C::Array{Int64} = A"
   ]
  },
  {
   "cell_type": "code",
   "execution_count": 5,
   "id": "enclosed-hotel",
   "metadata": {},
   "outputs": [
    {
     "ename": "LoadError",
     "evalue": "MethodError: \u001b[0mCannot `convert` an object of type \n\u001b[0m  \u001b[92mInt32\u001b[39m\u001b[0m to an object of type \n\u001b[0m  \u001b[91mArray{Int64}\u001b[39m\n\n\u001b[0mClosest candidates are:\n\u001b[0m  convert(::Type{T}, \u001b[91m::AbstractArray\u001b[39m) where T<:Array\n\u001b[0m\u001b[90m   @\u001b[39m \u001b[90mBase\u001b[39m \u001b[90m\u001b[4marray.jl:665\u001b[24m\u001b[39m\n\u001b[0m  convert(::Type{T}, \u001b[91m::LinearAlgebra.AbstractQ\u001b[39m) where T<:AbstractArray\n\u001b[0m\u001b[90m   @\u001b[39m \u001b[35mLinearAlgebra\u001b[39m \u001b[90m~/.local/share/julia/stdlib/v1.10/LinearAlgebra/src/\u001b[39m\u001b[90m\u001b[4mabstractq.jl:45\u001b[24m\u001b[39m\n\u001b[0m  convert(::Type{T}, \u001b[91m::LinearAlgebra.Factorization\u001b[39m) where T<:AbstractArray\n\u001b[0m\u001b[90m   @\u001b[39m \u001b[35mLinearAlgebra\u001b[39m \u001b[90m~/.local/share/julia/stdlib/v1.10/LinearAlgebra/src/\u001b[39m\u001b[90m\u001b[4mfactorization.jl:108\u001b[24m\u001b[39m\n\u001b[0m  ...\n",
     "output_type": "error",
     "traceback": [
      "MethodError: \u001b[0mCannot `convert` an object of type \n\u001b[0m  \u001b[92mInt32\u001b[39m\u001b[0m to an object of type \n\u001b[0m  \u001b[91mArray{Int64}\u001b[39m\n\n\u001b[0mClosest candidates are:\n\u001b[0m  convert(::Type{T}, \u001b[91m::AbstractArray\u001b[39m) where T<:Array\n\u001b[0m\u001b[90m   @\u001b[39m \u001b[90mBase\u001b[39m \u001b[90m\u001b[4marray.jl:665\u001b[24m\u001b[39m\n\u001b[0m  convert(::Type{T}, \u001b[91m::LinearAlgebra.AbstractQ\u001b[39m) where T<:AbstractArray\n\u001b[0m\u001b[90m   @\u001b[39m \u001b[35mLinearAlgebra\u001b[39m \u001b[90m~/.local/share/julia/stdlib/v1.10/LinearAlgebra/src/\u001b[39m\u001b[90m\u001b[4mabstractq.jl:45\u001b[24m\u001b[39m\n\u001b[0m  convert(::Type{T}, \u001b[91m::LinearAlgebra.Factorization\u001b[39m) where T<:AbstractArray\n\u001b[0m\u001b[90m   @\u001b[39m \u001b[35mLinearAlgebra\u001b[39m \u001b[90m~/.local/share/julia/stdlib/v1.10/LinearAlgebra/src/\u001b[39m\u001b[90m\u001b[4mfactorization.jl:108\u001b[24m\u001b[39m\n\u001b[0m  ...\n",
      "",
      "Stacktrace:",
      " [1] top-level scope",
      "   @ In[5]:1"
     ]
    }
   ],
   "source": [
    "C = B          # Tipos incompatibles"
   ]
  },
  {
   "cell_type": "markdown",
   "id": "corresponding-overview",
   "metadata": {},
   "source": [
    "## Tipos y literales"
   ]
  },
  {
   "cell_type": "markdown",
   "id": "parliamentary-trade",
   "metadata": {},
   "source": [
    "### Numéricos"
   ]
  },
  {
   "cell_type": "code",
   "execution_count": 19,
   "id": "appointed-newspaper",
   "metadata": {},
   "outputs": [
    {
     "data": {
      "text/plain": [
       "0xff"
      ]
     },
     "execution_count": 19,
     "metadata": {},
     "output_type": "execute_result"
    }
   ],
   "source": [
    "# Los tipos numéricos tienen tamaño limitado por defecto\n",
    "# Enteros con y sin signo desde 8 hasta 128 bits\n",
    "i₁ = 1_000        # '_' para separar grupos de dígitos\n",
    "i₂ = 0xcaffee     # Hexadecimal\n",
    "i₃ = 0o777        # Octal\n",
    "i₄ = 0b100101     # Binario\n",
    "# Los literales de base distinta de 10 son sin signo\n",
    "i₂ = -0x1         # Esto no es lo que parece"
   ]
  },
  {
   "cell_type": "code",
   "execution_count": 7,
   "id": "suburban-centre",
   "metadata": {},
   "outputs": [
    {
     "data": {
      "text/plain": [
       "123"
      ]
     },
     "execution_count": 7,
     "metadata": {},
     "output_type": "execute_result"
    }
   ],
   "source": [
    "i₁ = 000123      # Los ceros a la izquierda no cuentan"
   ]
  },
  {
   "cell_type": "code",
   "execution_count": 8,
   "id": "macro-isolation",
   "metadata": {},
   "outputs": [
    {
     "data": {
      "text/plain": [
       "0x0053"
      ]
     },
     "execution_count": 8,
     "metadata": {},
     "output_type": "execute_result"
    }
   ],
   "source": [
    "i₃ = 0o000123    # ¿O sí?\n",
    "# ¡Claro!  Cuando la base no es decimal"
   ]
  },
  {
   "cell_type": "code",
   "execution_count": 9,
   "id": "studied-ferry",
   "metadata": {},
   "outputs": [
    {
     "data": {
      "text/plain": [
       "252.75"
      ]
     },
     "execution_count": 9,
     "metadata": {},
     "output_type": "execute_result"
    }
   ],
   "source": [
    "# También hay punto flotante\n",
    "# Desde 16 hasta 64 bits\n",
    "f₁ = -1.6        # 64 bits\n",
    "f₁ = .345e10     # También 64 bits\n",
    "f₂ = 034.3f-1    # Se usa 'f' en lugar de 'e'\n",
    "f₃ = 0x3f.3p2    # Flotante hexadecimal (64 bits), se usa 'p'\n",
    "                 # y el exponente es de potencia base 2"
   ]
  },
  {
   "cell_type": "code",
   "execution_count": 9,
   "id": "fabulous-saturn",
   "metadata": {},
   "outputs": [
    {
     "data": {
      "text/plain": [
       "NaN"
      ]
     },
     "execution_count": 9,
     "metadata": {},
     "output_type": "execute_result"
    }
   ],
   "source": [
    "# Valores de punto flotante especiales\n",
    "f₁ = Inf         # Infinito\n",
    "f₂ = -1/0        # -Inf\n",
    "f₃ = NaN         # Not-a-Number\n",
    "f₃ = 0/0"
   ]
  },
  {
   "cell_type": "code",
   "execution_count": 11,
   "id": "international-vintage",
   "metadata": {},
   "outputs": [
    {
     "data": {
      "text/plain": [
       "1.000000000000000000000000000000000000000000000000000000000000000000000000000004e+1000"
      ]
     },
     "execution_count": 11,
     "metadata": {},
     "output_type": "execute_result"
    }
   ],
   "source": [
    "# Números de tamaño y precisión arbitrarios\n",
    "# Tienen que especificarse como tal con antelación,\n",
    "# no se convierten automáticamente cuando los cálculos\n",
    "# se hacen irrepresentables.\n",
    "i₁ = BigInt(0x1ff)\n",
    "i₂ = big\"1e1000\""
   ]
  },
  {
   "cell_type": "markdown",
   "id": "extraordinary-reducing",
   "metadata": {},
   "source": [
    "### Booleanos"
   ]
  },
  {
   "cell_type": "code",
   "execution_count": 15,
   "id": "electoral-poker",
   "metadata": {},
   "outputs": [
    {
     "ename": "LoadError",
     "evalue": "TypeError: non-boolean (Int32) used in boolean context",
     "output_type": "error",
     "traceback": [
      "TypeError: non-boolean (Int32) used in boolean context",
      "",
      "Stacktrace:",
      " [1] top-level scope",
      "   @ In[15]:4"
     ]
    }
   ],
   "source": [
    "# Los booleanos son un tipo de enteros.\n",
    "# 'true' equivale a 1 y 'false' equivale a 0;\n",
    "# además 'false' * cualquier_cosa == 0\n",
    "if 1\n",
    "    s = \"pero sólo se permiten booleanos donde deba\"\n",
    "    s *= \" haber una condición\"\n",
    "end"
   ]
  },
  {
   "cell_type": "markdown",
   "id": "hairy-level",
   "metadata": {},
   "source": [
    "### Cadenas"
   ]
  },
  {
   "cell_type": "code",
   "execution_count": 6,
   "id": "ethical-generation",
   "metadata": {},
   "outputs": [
    {
     "data": {
      "text/plain": [
       "\"pueden ser comillas dobles tres veces\\npara que pueda pasar varias líneas\""
      ]
     },
     "execution_count": 6,
     "metadata": {},
     "output_type": "execute_result"
    }
   ],
   "source": [
    "s = \"se utilizan comillas dobles\"\n",
    "s = \"\"\"pueden ser comillas dobles tres veces\n",
    "para que pueda pasar varias líneas\"\"\""
   ]
  },
  {
   "cell_type": "code",
   "execution_count": 7,
   "id": "clear-johnson",
   "metadata": {},
   "outputs": [
    {
     "ename": "LoadError",
     "evalue": "ParseError:\n\u001b[90m# Error @ \u001b[0;0m\u001b]8;;file:///home/catz/In[7]#1:14\u001b\\\u001b[90mIn[7]:1:14\u001b[0;0m\u001b]8;;\u001b\\\ns = \"esto no\"\u001b[48;2;120;70;70m \"funciona\"\u001b[0;0m\n\u001b[90m#            └─────────┘ ── \u001b[0;0m\u001b[91mextra tokens after end of expression\u001b[0;0m",
     "output_type": "error",
     "traceback": [
      "ParseError:\n\u001b[90m# Error @ \u001b[0;0m\u001b]8;;file:///home/catz/In[7]#1:14\u001b\\\u001b[90mIn[7]:1:14\u001b[0;0m\u001b]8;;\u001b\\\ns = \"esto no\"\u001b[48;2;120;70;70m \"funciona\"\u001b[0;0m\n\u001b[90m#            └─────────┘ ── \u001b[0;0m\u001b[91mextra tokens after end of expression\u001b[0;0m",
      "",
      "Stacktrace:",
      " [1] top-level scope",
      "   @ In[7]:1"
     ]
    }
   ],
   "source": [
    "s = \"esto no\" \"funciona\""
   ]
  },
  {
   "cell_type": "code",
   "execution_count": 8,
   "id": "wicked-wireless",
   "metadata": {},
   "outputs": [
    {
     "data": {
      "text/plain": [
       "Char"
      ]
     },
     "execution_count": 8,
     "metadata": {},
     "output_type": "execute_result"
    }
   ],
   "source": [
    "c = 'u'        # Las comillas simples son para un solo carácter\n",
    "typeof(c)"
   ]
  },
  {
   "cell_type": "code",
   "execution_count": 12,
   "id": "pacific-chapter",
   "metadata": {},
   "outputs": [
    {
     "data": {
      "text/plain": [
       "\"Se puede usar \\\"escapes\\\" tipo C\""
      ]
     },
     "execution_count": 12,
     "metadata": {},
     "output_type": "execute_result"
    }
   ],
   "source": [
    "s = \"Se puede usar \\\"escapes\\\" tipo \\x43\""
   ]
  },
  {
   "cell_type": "code",
   "execution_count": 13,
   "id": "loose-marsh",
   "metadata": {},
   "outputs": [
    {
     "data": {
      "text/plain": [
       "\"Se puede usar dólar para insertar variables: [10, 2, 3]\""
      ]
     },
     "execution_count": 13,
     "metadata": {},
     "output_type": "execute_result"
    }
   ],
   "source": [
    "s = \"Se puede usar dólar para insertar variables: $A\""
   ]
  },
  {
   "cell_type": "markdown",
   "id": "undefined-burton",
   "metadata": {},
   "source": [
    "### Arrays"
   ]
  },
  {
   "cell_type": "code",
   "execution_count": 14,
   "id": "advanced-thumbnail",
   "metadata": {},
   "outputs": [
    {
     "data": {
      "text/plain": [
       "3×2 Matrix{Int32}:\n",
       " 1  4\n",
       " 5  2\n",
       " 3  8"
      ]
     },
     "execution_count": 14,
     "metadata": {},
     "output_type": "execute_result"
    }
   ],
   "source": [
    "# Los arrays pueden tener cualquier cantidad de dimensiones.\n",
    "# Se pueden escribir literales para vectores y matrices.\n",
    "A = [1, 2, 3]            # Se usan comas para separar filas.\n",
    "A = [1,                  # Los elementos de los arrays se disponen\n",
    "     2,                  # por columnas primero, el vector es\n",
    "     3]                  # vector columna\n",
    "B = [[1, 5, 3] [4, 2, 8]] # matriz, usa espacios para separar las columnas"
   ]
  },
  {
   "cell_type": "markdown",
   "id": "aware-trigger",
   "metadata": {},
   "source": [
    "### Tuplas"
   ]
  },
  {
   "cell_type": "code",
   "execution_count": 47,
   "id": "digital-uganda",
   "metadata": {},
   "outputs": [
    {
     "data": {
      "text/plain": [
       "(1, 4, 7)"
      ]
     },
     "execution_count": 47,
     "metadata": {},
     "output_type": "execute_result"
    }
   ],
   "source": [
    "# A diferencia de los arrays, las tuplas son inmutables\n",
    "# y generalmente están pensadas para contener valores heterogéneos\n",
    "tupla = 1, 2, 3\n",
    "tupla = (1, 4, 7)     # Los paréntesis son opcionales, excepto para\n",
    "                      # una 0-tupla, y las 1-tupla requieren una ','\n",
    "                      # al final."
   ]
  },
  {
   "cell_type": "code",
   "execution_count": 48,
   "id": "departmental-temperature",
   "metadata": {},
   "outputs": [
    {
     "ename": "LoadError",
     "evalue": "MethodError: no method matching setindex!(::Tuple{Int32, Int32, Int32}, ::Int32, ::Int32)",
     "output_type": "error",
     "traceback": [
      "MethodError: no method matching setindex!(::Tuple{Int32, Int32, Int32}, ::Int32, ::Int32)",
      "",
      "Stacktrace:",
      " [1] top-level scope",
      "   @ In[48]:1"
     ]
    }
   ],
   "source": [
    "tupla[1] = 20    # Error, no se puede modificar"
   ]
  },
  {
   "cell_type": "code",
   "execution_count": 50,
   "id": "oriented-hobby",
   "metadata": {},
   "outputs": [
    {
     "data": {
      "text/plain": [
       "([20, 1], 2, true)"
      ]
     },
     "execution_count": 50,
     "metadata": {},
     "output_type": "execute_result"
    }
   ],
   "source": [
    "tupla = ([0, 1], 2, true)    # Pero sí redefinir\n",
    "tupla[1][1] = 20             # Y los elementos pueden mutarse, aunque no\n",
    "                             # reemplazarse por otros en la tupla\n",
    "tupla"
   ]
  },
  {
   "cell_type": "markdown",
   "id": "magnetic-librarian",
   "metadata": {},
   "source": [
    "## Estructuras de selección y repetición"
   ]
  },
  {
   "cell_type": "code",
   "execution_count": 11,
   "id": "consecutive-section",
   "metadata": {},
   "outputs": [],
   "source": [
    "while true\n",
    "    contador += incremento\n",
    "    if contador ≥ 100       # Caracteres unicode para los operadores, puede ser >=\n",
    "        break\n",
    "    elseif contador == 50\n",
    "        println(\"Pasó por 50...\")\n",
    "    end\n",
    "end                         # Todo bloque de código termina con un 'end'"
   ]
  },
  {
   "cell_type": "code",
   "execution_count": 12,
   "id": "focused-universe",
   "metadata": {},
   "outputs": [
    {
     "data": {
      "text/plain": [
       "100"
      ]
     },
     "execution_count": 12,
     "metadata": {},
     "output_type": "execute_result"
    }
   ],
   "source": [
    "contador"
   ]
  },
  {
   "cell_type": "code",
   "execution_count": 10,
   "id": "sudden-mailman",
   "metadata": {},
   "outputs": [
    {
     "data": {
      "text/plain": [
       "0:2:10"
      ]
     },
     "execution_count": 10,
     "metadata": {},
     "output_type": "execute_result"
    }
   ],
   "source": [
    "# Rangos, son secuencias como en Python\n",
    "inicio = 0\n",
    "paso = 2\n",
    "fin = 10\n",
    "rango = inicio:paso:fin  # Nótese que el fin está incluido en el rango"
   ]
  },
  {
   "cell_type": "code",
   "execution_count": 13,
   "id": "dramatic-composer",
   "metadata": {},
   "outputs": [
    {
     "data": {
      "text/plain": [
       "\"0 2 4 6 8 10 \""
      ]
     },
     "execution_count": 13,
     "metadata": {},
     "output_type": "execute_result"
    }
   ],
   "source": [
    "s = \"\"\n",
    "for i in rango           # Una iteración por cada elemento del iterable\n",
    "    s *= string(i) * \" \"\n",
    "end\n",
    "s"
   ]
  },
  {
   "cell_type": "markdown",
   "id": "fluid-causing",
   "metadata": {},
   "source": [
    "## Operadores"
   ]
  },
  {
   "cell_type": "markdown",
   "id": "designed-story",
   "metadata": {},
   "source": [
    "### Aritméticos"
   ]
  },
  {
   "cell_type": "code",
   "execution_count": 21,
   "id": "fossil-employer",
   "metadata": {},
   "outputs": [
    {
     "data": {
      "text/plain": [
       "4"
      ]
     },
     "execution_count": 21,
     "metadata": {},
     "output_type": "execute_result"
    }
   ],
   "source": [
    "# Operadores aritméticos\n",
    "i₁ = -i₂ * (i₃^2 % 20)      # '^' es exponenciación y '%' es residuo\n",
    "i₁ / i₂ == i₂ \\ i₁        # La barra invertida conmuta los operandos de división\n",
    "                          # La división siempre es en punto flotante\n",
    "i₁ = 21 ÷ 5               # '÷' es para la división entera (\\div<TAB>)"
   ]
  },
  {
   "cell_type": "code",
   "execution_count": 24,
   "id": "utility-publicity",
   "metadata": {},
   "outputs": [
    {
     "data": {
      "text/plain": [
       "0x69"
      ]
     },
     "execution_count": 24,
     "metadata": {},
     "output_type": "execute_result"
    }
   ],
   "source": [
    "# Operadores en bits\n",
    "i₁ = i₂ & 0b01101001      # '&' para un 'and' bit a bit\n",
    "i₁ = i₁ | 0b01101001      # '|' para un 'or' bit a bit\n",
    "i₁ = ~i₁ ⊻ i₂             # '~' es negado y '⊻' (\\xor) es 'xor'\n",
    "# También se pueden usar las funciones 'nand', 'nor' y 'xor'\n",
    "#                                       ⊼       ⊽       ⊻"
   ]
  },
  {
   "cell_type": "code",
   "execution_count": 25,
   "id": "extensive-discussion",
   "metadata": {},
   "outputs": [
    {
     "data": {
      "text/plain": [
       "0x07"
      ]
     },
     "execution_count": 25,
     "metadata": {},
     "output_type": "execute_result"
    }
   ],
   "source": [
    "# Más operadores en bits\n",
    "i₁ = (1 << 5)      # Desplaza 1, 5 veces a la izquierda (2^5)\n",
    "i₁ = (i₂ >> 5)     # Desplaza i₂, 5 veces a la derecha (i₂ ÷ 2^5)"
   ]
  },
  {
   "cell_type": "code",
   "execution_count": 26,
   "id": "domestic-rabbit",
   "metadata": {},
   "outputs": [
    {
     "data": {
      "text/plain": [
       "0x28"
      ]
     },
     "execution_count": 26,
     "metadata": {},
     "output_type": "execute_result"
    }
   ],
   "source": [
    "# Operaciones en el sitio: modifican la variable original\n",
    "i₁ += 100\n",
    "i₂ |= 0xac\n",
    "i₃ ^= 2\n",
    "i₄ <<= 3"
   ]
  },
  {
   "cell_type": "code",
   "execution_count": 55,
   "id": "pressing-doctrine",
   "metadata": {},
   "outputs": [
    {
     "data": {
      "text/plain": [
       "-192710"
      ]
     },
     "execution_count": 55,
     "metadata": {},
     "output_type": "execute_result"
    }
   ],
   "source": [
    "# Como caso especial, se pueden escribir literales numéricos\n",
    "# justo antes de una variable para representar una\n",
    "# multiplicación implícita\n",
    "2i₄ - 3i₃ + 7i₁      # No se puede separar con espacio el número de la variable"
   ]
  },
  {
   "cell_type": "markdown",
   "id": "hispanic-broad",
   "metadata": {},
   "source": [
    "### Comparativos"
   ]
  },
  {
   "cell_type": "code",
   "execution_count": 28,
   "id": "damaged-young",
   "metadata": {},
   "outputs": [
    {
     "data": {
      "text/plain": [
       "true"
      ]
     },
     "execution_count": 28,
     "metadata": {},
     "output_type": "execute_result"
    }
   ],
   "source": [
    "# Se pudedn combinar en una sola expresión, con un '&&'\n",
    "# implícito uniendo cada par\n",
    "cond = 2 < 3 != 5 >= 4 ≥ 4 ≤ 10 == 10 ≠ 0"
   ]
  },
  {
   "cell_type": "code",
   "execution_count": 29,
   "id": "brief-samuel",
   "metadata": {},
   "outputs": [
    {
     "data": {
      "text/plain": [
       "\"cierto\""
      ]
     },
     "execution_count": 29,
     "metadata": {},
     "output_type": "execute_result"
    }
   ],
   "source": [
    "# Ternario\n",
    "s = cond ? \"cierto\" : \"falso\""
   ]
  },
  {
   "cell_type": "markdown",
   "id": "mighty-mobility",
   "metadata": {},
   "source": [
    "### Operaciones con tensores (arrays)"
   ]
  },
  {
   "cell_type": "code",
   "execution_count": 32,
   "id": "outer-parliament",
   "metadata": {},
   "outputs": [
    {
     "data": {
      "text/plain": [
       "3-element Vector{Int32}:\n",
       " 4\n",
       " 4\n",
       " 4"
      ]
     },
     "execution_count": 32,
     "metadata": {},
     "output_type": "execute_result"
    }
   ],
   "source": [
    "# Suma de vectores\n",
    "A = [1, 2, 3];  B = [3, 2, 1]\n",
    "A + B"
   ]
  },
  {
   "cell_type": "code",
   "execution_count": 39,
   "id": "front-burton",
   "metadata": {},
   "outputs": [
    {
     "data": {
      "text/plain": [
       "3×3 Matrix{Float64}:\n",
       " 1.0   0.0  0.0\n",
       " 1.25  0.0  0.25\n",
       " 0.0   0.0  1.0"
      ]
     },
     "execution_count": 39,
     "metadata": {},
     "output_type": "execute_result"
    }
   ],
   "source": [
    "# Producto de matrices\n",
    "A = [    1.      2.      3.\n",
    "         3.      4.      5.\n",
    "         7.      6.      5.]\n",
    "B = [-17/16     1/4    3/16\n",
    "        3/2    -1/2      0 \n",
    "      -5/16     1/4   -1/16]\n",
    "A * B"
   ]
  },
  {
   "cell_type": "markdown",
   "id": "entertaining-jones",
   "metadata": {},
   "source": [
    "### Operaciones vectorizadas"
   ]
  },
  {
   "cell_type": "code",
   "execution_count": 40,
   "id": "mediterranean-corruption",
   "metadata": {},
   "outputs": [
    {
     "data": {
      "text/plain": [
       "3×3 Matrix{Float64}:\n",
       " -1.0625   0.5   0.5625\n",
       "  4.5     -2.0   0.0\n",
       " -2.1875   1.5  -0.3125"
      ]
     },
     "execution_count": 40,
     "metadata": {},
     "output_type": "execute_result"
    }
   ],
   "source": [
    "#=\n",
    " Se puede escribir un punto '.' justo antes de cualquier\n",
    " operador o justo después del nombre de cualquier función\n",
    " para hacer que opere elemento por elemento en los arrays,\n",
    " en lugar de sobre el array completo\n",
    "=#\n",
    "A .* B"
   ]
  },
  {
   "cell_type": "code",
   "execution_count": 41,
   "id": "hearing-bargain",
   "metadata": {},
   "outputs": [
    {
     "data": {
      "text/plain": [
       "false"
      ]
     },
     "execution_count": 41,
     "metadata": {},
     "output_type": "execute_result"
    }
   ],
   "source": [
    "A == B    # Comparación completa"
   ]
  },
  {
   "cell_type": "code",
   "execution_count": 42,
   "id": "mounted-colon",
   "metadata": {},
   "outputs": [
    {
     "data": {
      "text/plain": [
       "3×3 BitMatrix:\n",
       " 0  0  0\n",
       " 0  0  0\n",
       " 0  0  0"
      ]
     },
     "execution_count": 42,
     "metadata": {},
     "output_type": "execute_result"
    }
   ],
   "source": [
    "A .== B   # Comparación elemento a elemento"
   ]
  },
  {
   "cell_type": "markdown",
   "id": "front-idaho",
   "metadata": {},
   "source": [
    "## Funciones"
   ]
  },
  {
   "cell_type": "code",
   "execution_count": 88,
   "id": "least-consultation",
   "metadata": {},
   "outputs": [
    {
     "data": {
      "text/plain": [
       "otra_funcion (generic function with 1 method)"
      ]
     },
     "execution_count": 88,
     "metadata": {},
     "output_type": "execute_result"
    }
   ],
   "source": [
    "function una_funcion(x, y)\n",
    "    c = x + y\n",
    "    x^2 + c*x*y + y^2        # El valor devuelto por la función\n",
    "end                          # es el de la última expresión evaluada\n",
    "\n",
    "function otra_funcion(ρ, θ)\n",
    "    return ρ * cos(θ), ρ * sin(θ)  # El 'return' es opcional aquí.\n",
    "                                   # La función puede devolver varios\n",
    "                                   # valores con una tupla\n",
    "end"
   ]
  },
  {
   "cell_type": "code",
   "execution_count": 44,
   "id": "completed-classification",
   "metadata": {},
   "outputs": [
    {
     "ename": "LoadError",
     "evalue": "ParseError:\n\u001b[90m# Error @ \u001b[0;0m\u001b]8;;file:///home/catz/In[44]#3:12\u001b\\\u001b[90mIn[44]:3:12\u001b[0;0m\u001b]8;;\u001b\\\n# unidos al nombre de la función...\nuna_funcion\u001b[48;2;120;70;70m \u001b[0;0m(2, 3)           # Esto no funciona\n\u001b[90m#          ╙ ── \u001b[0;0m\u001b[91mwhitespace is not allowed here\u001b[0;0m",
     "output_type": "error",
     "traceback": [
      "ParseError:\n\u001b[90m# Error @ \u001b[0;0m\u001b]8;;file:///home/catz/In[44]#3:12\u001b\\\u001b[90mIn[44]:3:12\u001b[0;0m\u001b]8;;\u001b\\\n# unidos al nombre de la función...\nuna_funcion\u001b[48;2;120;70;70m \u001b[0;0m(2, 3)           # Esto no funciona\n\u001b[90m#          ╙ ── \u001b[0;0m\u001b[91mwhitespace is not allowed here\u001b[0;0m",
      "",
      "Stacktrace:",
      " [1] top-level scope",
      "   @ In[44]:3"
     ]
    }
   ],
   "source": [
    "# La llamada a la función debe tener los paréntesis\n",
    "# unidos al nombre de la función...\n",
    "una_funcion (2, 3)           # Esto no funciona"
   ]
  },
  {
   "cell_type": "code",
   "execution_count": 45,
   "id": "honey-california",
   "metadata": {},
   "outputs": [
    {
     "data": {
      "text/plain": [
       "43"
      ]
     },
     "execution_count": 45,
     "metadata": {},
     "output_type": "execute_result"
    }
   ],
   "source": [
    "una_funcion(2, 3)           # Esto sí funciona"
   ]
  },
  {
   "cell_type": "code",
   "execution_count": 51,
   "id": "extreme-arrangement",
   "metadata": {},
   "outputs": [
    {
     "data": {
      "text/plain": [
       "tercera_funcion (generic function with 1 method)"
      ]
     },
     "execution_count": 51,
     "metadata": {},
     "output_type": "execute_result"
    }
   ],
   "source": [
    "# También se puede definir una función con una sintaxis de asignación\n",
    "tercera_funcion(a, b, c) = a * b + c"
   ]
  },
  {
   "cell_type": "code",
   "execution_count": 52,
   "id": "relevant-prison",
   "metadata": {},
   "outputs": [
    {
     "data": {
      "text/plain": [
       "#1 (generic function with 1 method)"
      ]
     },
     "execution_count": 52,
     "metadata": {},
     "output_type": "execute_result"
    }
   ],
   "source": [
    "# Y finalmente se puede usar una expresión tipo lambda\n",
    "lambda = (x, y) -> (x + y) * (x - y)"
   ]
  },
  {
   "cell_type": "code",
   "execution_count": 56,
   "id": "fewer-castle",
   "metadata": {},
   "outputs": [
    {
     "data": {
      "text/plain": [
       "#3 (generic function with 1 method)"
      ]
     },
     "execution_count": 56,
     "metadata": {},
     "output_type": "execute_result"
    }
   ],
   "source": [
    "# Una forma más de crear una función anónima es omitir el nombre\n",
    "function ()\n",
    "    \"No estoy seguro aún para qué quiero ésta\"\n",
    "end"
   ]
  },
  {
   "cell_type": "markdown",
   "id": "herbal-sport",
   "metadata": {},
   "source": [
    "### Polimorfismo"
   ]
  },
  {
   "cell_type": "code",
   "execution_count": 67,
   "id": "seven-orlando",
   "metadata": {},
   "outputs": [
    {
     "data": {
      "text/plain": [
       "norma (generic function with 7 methods)"
      ]
     },
     "execution_count": 67,
     "metadata": {},
     "output_type": "execute_result"
    }
   ],
   "source": [
    "#=\n",
    " Las funciones se pueden definir con valores por defecto\n",
    " para algunos parámetros (o todos), y si se le añaden\n",
    " anotaciones de tipo a los parámetros, se pueden \"sobrecargar\",\n",
    " o mejor dicho, se utiliza despacho múltiple, que determina\n",
    " la versión de la función a llamar basado en el tipo durante\n",
    " la ejecución de sus argumentos en una llamada particular.\n",
    "\n",
    " Las varias versiones de la función se llaman 'métodos' en Julia\n",
    "=#\n",
    "\n",
    "function norma(vector::Vector{<:Number}=[1, 1, 1])\n",
    "    √(sum(x -> x^2, vector))\n",
    "end\n",
    "\n",
    "function norma(matriz::Matrix{<:Integer})\n",
    "    maximum(x -> abs(x == typemin(typeof(x)) ? BigInt(x) : x), matriz)\n",
    "end\n",
    "\n",
    "function norma(matriz::Matrix{<:AbstractFloat})\n",
    "    maximum(abs, matriz)\n",
    "end\n",
    "\n",
    "# Nótese cómo se pasaron funciones como argumentos a otra función;\n",
    "# en Julia, las funciones son objetos llamables, que se pueden\n",
    "# pasar ida y vuelta hacia/desde otras funciones."
   ]
  },
  {
   "cell_type": "code",
   "execution_count": 68,
   "id": "completed-jackson",
   "metadata": {},
   "outputs": [
    {
     "name": "stdout",
     "output_type": "stream",
     "text": [
      "Norma sin parámetros: 1.7320508075688772\n",
      "Norma con vector: 3.0\n",
      "Norma con matriz: 7.0\n"
     ]
    }
   ],
   "source": [
    "println(\"Norma sin parámetros: $(norma())\")\n",
    "println(\"Norma con vector: $(norma([2, 1, 2]))\")\n",
    "println(\"Norma con matriz: $(norma(A))\")"
   ]
  },
  {
   "cell_type": "code",
   "execution_count": 78,
   "id": "clear-harmony",
   "metadata": {},
   "outputs": [
    {
     "data": {
      "text/plain": [
       "clave (generic function with 1 method)"
      ]
     },
     "execution_count": 78,
     "metadata": {},
     "output_type": "execute_result"
    }
   ],
   "source": [
    "# También se pueden crear funciones con argumentos no posicionales,\n",
    "# sino de palabra clave.  Estos no se pueden pasar por posición,\n",
    "# sólo por el nombre.\n",
    "\n",
    "clave(; laclave1, laclave2, laclave3=0) = println(\"clave con 2 o 3 argumentos\")"
   ]
  },
  {
   "cell_type": "code",
   "execution_count": 79,
   "id": "registered-dress",
   "metadata": {},
   "outputs": [
    {
     "ename": "LoadError",
     "evalue": "UndefKeywordError: keyword argument `laclave1` not assigned",
     "output_type": "error",
     "traceback": [
      "UndefKeywordError: keyword argument `laclave1` not assigned",
      "",
      "Stacktrace:",
      " [1] clave()",
      "   @ Main ./In[78]:5",
      " [2] top-level scope",
      "   @ In[79]:1"
     ]
    }
   ],
   "source": [
    "clave()  # Error, falta el argumento de palabra clave"
   ]
  },
  {
   "cell_type": "code",
   "execution_count": 81,
   "id": "forty-caribbean",
   "metadata": {},
   "outputs": [
    {
     "ename": "LoadError",
     "evalue": "MethodError: no method matching clave(::Int32, ::Int32)",
     "output_type": "error",
     "traceback": [
      "MethodError: no method matching clave(::Int32, ::Int32)",
      "",
      "Stacktrace:",
      " [1] top-level scope",
      "   @ In[81]:1"
     ]
    }
   ],
   "source": [
    "clave(0, 1)  # Error, no se puede pasar los parámetros por posición"
   ]
  },
  {
   "cell_type": "code",
   "execution_count": 82,
   "id": "otherwise-coast",
   "metadata": {},
   "outputs": [
    {
     "name": "stdout",
     "output_type": "stream",
     "text": [
      "clave con 2 o 3 argumentos\n",
      "clave con 2 o 3 argumentos\n"
     ]
    }
   ],
   "source": [
    "clave(laclave1=1, laclave2=2)\n",
    "clave(laclave1=1, laclave2=2, laclave3=3)"
   ]
  },
  {
   "cell_type": "markdown",
   "id": "sufficient-hacker",
   "metadata": {},
   "source": [
    "### Extras"
   ]
  },
  {
   "cell_type": "code",
   "execution_count": 86,
   "id": "owned-median",
   "metadata": {},
   "outputs": [
    {
     "name": "stdout",
     "output_type": "stream",
     "text": [
      "[1.0 2.0 3.0; 3.0 4.0 5.0; 7.0 6.0 5.0]\n"
     ]
    },
    {
     "data": {
      "text/plain": [
       "25.0"
      ]
     },
     "execution_count": 86,
     "metadata": {},
     "output_type": "execute_result"
    }
   ],
   "source": [
    "# Para pasar funciones anónimas grandes a funciones de orden superior\n",
    "# hay una sintaxis alternativa más cómoda para pasar la función\n",
    "# anónima como primer argumento, quitandolo de la llamada normal.\n",
    "\n",
    "println(A)\n",
    "\n",
    "maximum(A) do elem     # La lista de parámetros va luego del 'do'\n",
    "    elem = abs2(elem)\n",
    "    if elem > 25\n",
    "        elem ÷= 2\n",
    "    end\n",
    "    return elem\n",
    "end"
   ]
  },
  {
   "cell_type": "code",
   "execution_count": 98,
   "id": "double-shanghai",
   "metadata": {},
   "outputs": [
    {
     "name": "stdout",
     "output_type": "stream",
     "text": [
      "9.539392014169456\n",
      "9.539392014169456\n"
     ]
    }
   ],
   "source": [
    "# Composición de funciones, forma matemática\n",
    "norma_euclidiana = (sqrt ∘ sum ∘ (x -> x.^2))\n",
    "println(norma_euclidiana([1, 2, 3, 4, 5, 6]))\n",
    "\n",
    "# forma de tuberías\n",
    "[1, 2, 3, 4, 5, 6] |> x -> x.^2 |> sum |> sqrt |> println"
   ]
  },
  {
   "cell_type": "markdown",
   "id": "determined-telescope",
   "metadata": {},
   "source": [
    "## Estructuras (clases sin métodos)"
   ]
  },
  {
   "cell_type": "code",
   "execution_count": 103,
   "id": "medical-forestry",
   "metadata": {},
   "outputs": [
    {
     "name": "stdout",
     "output_type": "stream",
     "text": [
      "Carro(24.0, \"azul\", 200)\n",
      "azul\n"
     ]
    }
   ],
   "source": [
    "#=\n",
    " El sistema de tipos de Julia permite crear tipos abstractos\n",
    " y tipos concretos.  Los abstractos no contienen campos de datos,\n",
    " no se pueden instanciar, pero se pueden derivar (o subtipar);\n",
    " mientras que los concretos tienen campos de datos y se pueden\n",
    " instanciar, pero no se pueden derivar.\n",
    "=#\n",
    "\n",
    "abstract type Vehículo end       # 'Con acento'\n",
    "struct Carro <: Vehículo         # 'Carro' deriva de 'Vehículo'\n",
    "    velocidad::Real              # Campo (o propiedad, atributo) con tipo\n",
    "    color                        # Campo de cualquier tipo (tipo Any)\n",
    "    peso::Integer                # Un tanto arbitrario\n",
    "end\n",
    "\n",
    "a::Vehículo = Carro(24.0, \"azul\", 200)\n",
    "println(a)\n",
    "println(a.color)"
   ]
  },
  {
   "cell_type": "code",
   "execution_count": 104,
   "id": "understanding-static",
   "metadata": {},
   "outputs": [
    {
     "ename": "LoadError",
     "evalue": "setfield!: immutable struct of type Carro cannot be changed",
     "output_type": "error",
     "traceback": [
      "setfield!: immutable struct of type Carro cannot be changed",
      "",
      "Stacktrace:",
      " [1] setproperty!(x::Carro, f::Symbol, v::String)",
      "   @ Base ./Base.jl:41",
      " [2] top-level scope",
      "   @ In[104]:1"
     ]
    }
   ],
   "source": [
    "a.color = \"verde\"         # No se pueden modificar los campos por defecto"
   ]
  },
  {
   "cell_type": "code",
   "execution_count": 105,
   "id": "senior-organic",
   "metadata": {},
   "outputs": [
    {
     "name": "stdout",
     "output_type": "stream",
     "text": [
      "Moto(15, \"verde\", 50)\n",
      "verde\n"
     ]
    },
    {
     "data": {
      "text/plain": [
       "\"rojo\""
      ]
     },
     "execution_count": 105,
     "metadata": {},
     "output_type": "execute_result"
    }
   ],
   "source": [
    "mutable struct Moto <: Vehículo       # Hay que declararlo 'mutable'\n",
    "    velocidad::Real\n",
    "    color\n",
    "    peso::Integer\n",
    "end\n",
    "\n",
    "a = Moto(15, \"verde\", 50)\n",
    "println(a)\n",
    "println(a.color)\n",
    "a.color = \"rojo\""
   ]
  }
 ],
 "metadata": {
  "kernelspec": {
   "display_name": "Julia 1.10.3",
   "language": "julia",
   "name": "julia-1.10"
  },
  "language_info": {
   "file_extension": ".jl",
   "mimetype": "application/julia",
   "name": "julia",
   "version": "1.10.3"
  }
 },
 "nbformat": 4,
 "nbformat_minor": 5
}
